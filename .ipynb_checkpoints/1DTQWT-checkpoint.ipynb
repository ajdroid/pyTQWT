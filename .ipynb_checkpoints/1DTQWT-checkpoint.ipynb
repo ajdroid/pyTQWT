{
 "cells": [
  {
   "cell_type": "code",
   "execution_count": 8,
   "metadata": {
    "collapsed": true
   },
   "outputs": [],
   "source": [
    "from __future__ import division\n",
    "import numpy as np\n",
    "from matplotlib import pyplot as plt\n",
    "import scipy, traceback, warnings, sys\n",
    "warnings.filterwarnings(\"ignore\", category=DeprecationWarning) \n",
    "from scipy.ndimage import imread\n",
    "\n",
    "def warn_with_traceback(message, category, filename, lineno, file=None, line=None):\n",
    "    log = file if hasattr(file,'write') else sys.stderr\n",
    "    log.write(warnings.formatwarning(message, category, filename, lineno, line))\n",
    "\n",
    "warnings.showwarning = warn_with_traceback"
   ]
  },
  {
   "cell_type": "code",
   "execution_count": 9,
   "metadata": {
    "collapsed": true
   },
   "outputs": [],
   "source": [
    "im1 = imread('data/a01_1.tif')\n",
    "im2 = imread('data/a01_2.tif')\n"
   ]
  },
  {
   "cell_type": "code",
   "execution_count": 10,
   "metadata": {
    "collapsed": false
   },
   "outputs": [],
   "source": [
    "#!/usr/bin/python\n",
    "import math, cmath\n",
    "import numpy as np\n",
    "pi=math.pi\n",
    "\n",
    "def AFB(X, N0, N1):\n",
    "    N = len(X)\n",
    "    assert N%2 == 0\n",
    "    assert N0%2==0 and N1%2 ==0 \n",
    "    assert N0+N1 > N\n",
    "    P = int((N - N1)/2)\n",
    "    T = int((N0 + N1 - N)/2 - 1)\n",
    "    S = int((N - N0)/2)\n",
    "    V0 = np.zeros((N0,), dtype=complex)\n",
    "    V1 = np.zeros((N1,), dtype=complex)\n",
    "    k = np.arange(1,T+1, dtype=int)\n",
    "    th = np.zeros((T+1,), dtype=float)\n",
    "    th[k] = 0.5*(1 + np.cos(k*pi/(T + 1)))*np.sqrt(2-np.cos(k*pi/(T + 1)))\n",
    "    # Low pass sub-band\n",
    "    V0[0] = X[0]\n",
    "    V0[1:P+1] = X[1:P+1]\n",
    "    V0[N0-P:N0] = X[N-P:N]\n",
    "    V0[P+1:P+T+1] = X[P+1:P+T+1]*th[1:T+1]\n",
    "    V0[N0-P-T:N0-P] = X[N-P-T:N-P]*th[1:T+1]\n",
    "    V0[N0/2] = 0\n",
    "    # High pass sub-band\n",
    "    V1[0] = 0\n",
    "    V1[1:T+1] = X[P+1:P+T+1]*th[T:0:-1]\n",
    "    V1[N1-T:N1] = X[N-P-T:N-P]*th[1:T+1]\n",
    "    V1[T+1:T+S+1] = X[P+T+1:P+T+S+1]\n",
    "    V1[N1-T-S:N1-T] = X[N-P-T-S:N-P-T]\n",
    "    V1[N1/2] = X[N/2]\n",
    "    v0 = np.fft.ifft(V0)\n",
    "    v1 = np.fft.ifft(V1)    \n",
    "    return v0, v1\n",
    "\n",
    "def SFB(V0, V1, N):\n",
    "    N0 = len(V0)\n",
    "    N1 = len(V1)\n",
    "    assert N%2 == 0\n",
    "    assert N0%2==0 and N1%2 ==0 \n",
    "    assert N0+N1 > N\n",
    "    P = int((N - N1)/2)\n",
    "    T = int((N0 + N1 - N)/2 - 1)\n",
    "    S = int((N - N0)/2)\n",
    "    Y0 = np.zeros((N,), dtype=complex)\n",
    "    Y1 = np.zeros((N,), dtype=complex)\n",
    "    k = np.arange(1,T+1, dtype=int)\n",
    "    th = np.zeros((T+1,), dtype=float)\n",
    "    th[k] = 0.5*(1 + np.cos(k*pi/(T + 1)))*np.sqrt(2-np.cos(k*pi/(T + 1)))\n",
    "    # Low pass sub-band\n",
    "    Y0[0] = V0[0]\n",
    "    Y0[1:P+1] = V0[1:P+1]\n",
    "    Y0[N-P:N] = V0[N0-P:N0]\n",
    "    Y0[P+1:P+T+1] = V0[P+1:P+T+1]*th[1:T+1]\n",
    "    Y0[N-P-T:N-P] = V0[N0-P-T:N0-P]*th[1:T+1]\n",
    "#        print V0[N-P-T:N-P].shape, Y0[N0-P-T:N0-P].shape\n",
    "    Y0[N/2] = 0\n",
    "    # High pass sub-band\n",
    "    Y1[0] = 0 # already 0 though\n",
    "    Y1[1+P:T+P+1] = V1[1:T+1]*th[T:0:-1]\n",
    "    Y1[N-T-P:N-P] = V1[N1-T:N1]*th[1:T+1]\n",
    "    Y1[T+P+1:T+P+S+1] = V1[T+1:T+S+1]\n",
    "    Y1[N-T-P-S:N-T-P] = V1[N1-T-S:N1-T]\n",
    "    Y1[N/2] = V1[N1/2]\n",
    "    Y = Y1 + Y0\n",
    "    y = np.real(np.fft.ifft(Y))\n",
    "    return y"
   ]
  },
  {
   "cell_type": "code",
   "execution_count": 11,
   "metadata": {
    "collapsed": false,
    "scrolled": true
   },
   "outputs": [],
   "source": [
    "def imAFB(im, n0, n1):\n",
    "    nrows, ncols = im.shape\n",
    "    imL = np.zeros((n0, ncols), dtype = float)\n",
    "    imH = np.zeros((n1, ncols), dtype = float)\n",
    "    imLL = np.zeros((n0, n0), dtype = float)\n",
    "    imLH = np.zeros((n0, n1), dtype = float)\n",
    "    imHL = np.zeros((n1, n0), dtype = float)\n",
    "    imHH = np.zeros((n1, n1), dtype = float)\n",
    "\n",
    "    # Filter columnwise first\n",
    "\n",
    "    for icol in range(ncols):\n",
    "        x = im[:,icol] \n",
    "        X = np.fft.fft(x)\n",
    "        imL[:, icol], imH[:, icol] = AFB(X, n0, n1)\n",
    "\n",
    "    # Filter the common part of the rows    \n",
    "\n",
    "    for irow in range(min(n0,n1)):  \n",
    "        x = imL[irow, :] \n",
    "        X = np.fft.fft(x)\n",
    "        imLL[irow,:], imLH[irow,:] = AFB(X, n0, n1)\n",
    "        x = imH[irow, :] \n",
    "        X = np.fft.fft(x)\n",
    "        imHL[irow,:], imHH[irow,:] = AFB(X, n0, n1)\n",
    "\n",
    "\n",
    "    # Filter remaining rows\n",
    "    \n",
    "    for irow in range(min(n0,n1), max(n0,n1)-min(n0,n1)):  \n",
    "        x = imL[irow, :] \n",
    "        X = np.fft.fft(x)\n",
    "        imLL[irow,:], imLH[irow, :] = AFB(X, n0, n1)\n",
    "\n",
    "    return imLL, imLH, imHL, imHH\n",
    "\n",
    "def imSFB(imLL, imLH, imHL, imHH, nrows=256, ncols=256):\n",
    "    n0 = imLL.shape[0]\n",
    "    n1 = imHH.shape[0]\n",
    "    imL = np.zeros((n0, ncols), dtype = float)\n",
    "    imH = np.zeros((n1, ncols), dtype = float)\n",
    "    im = np.zeros((nrows, ncols), dtype = float)\n",
    "    # Synth to imH\n",
    "    for i in range(min(n0, n1)):\n",
    "        imH[i,:] = SFB(np.fft.fft(imHL[i,:]), np.fft.fft(imHH[i,:]), ncols)\n",
    "        imL[i,:] = SFB(np.fft.fft(imLL[i,:]), np.fft.fft(imLH[i,:]), ncols)\n",
    "    \n",
    "    # Synth to imL\n",
    "    for i in range(min(n0,n1), max(n0,n1)-min(n0,n1)):\n",
    "        imL[i,:] = np.real(SFB(np.fft.fft(imLL[i,:]), np.fft.fft(imLH[i,:]), ncols))\n",
    "\n",
    "    # Synthesize image\n",
    "    for i in range(ncols):\n",
    "        im[:,i] = np.real(SFB(np.fft.fft(imL[:,i]), np.fft.fft(imH[:,i]), nrows))\n",
    "                      \n",
    "    return im\n",
    "\n",
    "def TQWTfuse(im1, im2, n0=256, n1=256):\n",
    "    imLL1, imLH1, imHL1, imHH1 = imAFB(im1, n0, n1)\n",
    "    imLL2, imLH2, imHL2, imHH2 = imAFB(im2, n0, n1)\n",
    "    \n",
    "    imLL = (imLL1+imLL2)/2\n",
    "    imLH = np.maximum(imLH1, imLH2)\n",
    "    imHL = np.maximum(imHL1, imHL2)\n",
    "    imHH = np.maximum(imHH1, imHH2)\n",
    "    \n",
    "    imfuse = imSFB(imLL, imLH, imHL, imHH)\n",
    "    return imfuse"
   ]
  },
  {
   "cell_type": "code",
   "execution_count": 13,
   "metadata": {
    "collapsed": false
   },
   "outputs": [
    {
     "name": "stderr",
     "output_type": "stream",
     "text": [
      "/usr/local/lib/python2.7/dist-packages/ipykernel/__main__.py:15: ComplexWarning: Casting complex values to real discards the imaginary part\n",
      "/usr/local/lib/python2.7/dist-packages/ipykernel/__main__.py:22: ComplexWarning: Casting complex values to real discards the imaginary part\n",
      "/usr/local/lib/python2.7/dist-packages/ipykernel/__main__.py:25: ComplexWarning: Casting complex values to real discards the imaginary part\n"
     ]
    }
   ],
   "source": [
    "n0 = n1 = 140\n",
    "imFuse = TQWTfuse(im1, im2, 140, 140)\n",
    "plt.figure()\n",
    "plt.imshow(imFuse, cmap='gray')\n",
    "plt.figure()\n",
    "plt.imshow(im1, cmap='gray')\n",
    "plt.figure()\n",
    "plt.imshow(im2, cmap='gray')\n",
    "plt.show()\n",
    "# imFuse = 256*(im1Rec-im1Rec.min())/(im1Rec.max()-im1Rec.min())"
   ]
  },
  {
   "cell_type": "code",
   "execution_count": null,
   "metadata": {
    "collapsed": true
   },
   "outputs": [],
   "source": []
  },
  {
   "cell_type": "code",
   "execution_count": null,
   "metadata": {
    "collapsed": true
   },
   "outputs": [],
   "source": []
  },
  {
   "cell_type": "code",
   "execution_count": null,
   "metadata": {
    "collapsed": true
   },
   "outputs": [],
   "source": []
  },
  {
   "cell_type": "code",
   "execution_count": null,
   "metadata": {
    "collapsed": true
   },
   "outputs": [],
   "source": []
  }
 ],
 "metadata": {
  "kernelspec": {
   "display_name": "Python 2",
   "language": "python",
   "name": "python2"
  },
  "language_info": {
   "codemirror_mode": {
    "name": "ipython",
    "version": 2
   },
   "file_extension": ".py",
   "mimetype": "text/x-python",
   "name": "python",
   "nbconvert_exporter": "python",
   "pygments_lexer": "ipython2",
   "version": "2.7.6"
  }
 },
 "nbformat": 4,
 "nbformat_minor": 0
}
